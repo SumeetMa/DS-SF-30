{
 "cells": [
  {
   "cell_type": "markdown",
   "metadata": {},
   "source": [
    "# DS-SF-30 | Codealong 03: Databases, Scrapping, and APIs; Part B - NoSQL Databases and `CouchDB`"
   ]
  },
  {
   "cell_type": "markdown",
   "metadata": {},
   "source": [
    "## Administration Web Interface"
   ]
  },
  {
   "cell_type": "markdown",
   "metadata": {},
   "source": [
    "> ## `CouchDB`'s Administration Web Interface, called `Fauxton` is at http://localhost:5984/_utils"
   ]
  },
  {
   "cell_type": "markdown",
   "metadata": {},
   "source": [
    "## A brief overview of `CouchDB`'s bare-bone API using the command-line utility `curl`"
   ]
  },
  {
   "cell_type": "markdown",
   "metadata": {},
   "source": [
    "> ### Hello World!"
   ]
  },
  {
   "cell_type": "code",
   "execution_count": 4,
   "metadata": {
    "collapsed": false
   },
   "outputs": [],
   "source": [
    "!curl -X GET http://localhost:8889"
   ]
  },
  {
   "cell_type": "markdown",
   "metadata": {},
   "source": [
    "> ### Get the list of databases"
   ]
  },
  {
   "cell_type": "code",
   "execution_count": 5,
   "metadata": {
    "collapsed": false
   },
   "outputs": [
    {
     "name": "stdout",
     "output_type": "stream",
     "text": [
      "<!DOCTYPE HTML>\r\n",
      "<html>\r\n",
      "\r\n",
      "<head>\r\n",
      "    <meta charset=\"utf-8\">\r\n",
      "\r\n",
      "    <title>Jupyter Notebook</title>\r\n",
      "    <link rel=\"shortcut icon\" type=\"image/x-icon\" href=\"/static/base/images/favicon.ico?v=30780f272ab4aac64aa073a841546240\">\r\n",
      "    <meta http-equiv=\"X-UA-Compatible\" content=\"IE=edge\" />\r\n",
      "    <link rel=\"stylesheet\" href=\"/static/components/jquery-ui/themes/smoothness/jquery-ui.min.css?v=9b2c8d3489227115310662a343fce11c\" type=\"text/css\" />\r\n",
      "    <link rel=\"stylesheet\" href=\"/static/components/jquery-typeahead/dist/jquery.typeahead.min.css?v=7afb461de36accb1aa133a1710f5bc56\" type=\"text/css\" />\r\n",
      "    <meta name=\"viewport\" content=\"width=device-width, initial-scale=1.0\">\r\n",
      "    \r\n",
      "    \r\n",
      "\r\n",
      "    <link rel=\"stylesheet\" href=\"/static/style/style.min.css?v=f6c09475baf6beabd41f8fe518601204\" type=\"text/css\"/>\r\n",
      "    \r\n",
      "<style type=\"text/css\">\r\n",
      "/* disable initial hide */\r\n",
      "div#header, div#site {\r\n",
      "    display: block;\r\n",
      "}\r\n",
      "</style>\r\n",
      "\r\n",
      "    <link rel=\"stylesheet\" href=\"/custom/custom.css\" type=\"text/css\" />\r\n",
      "    <script src=\"/static/components/es6-promise/promise.min.js?v=f004a16cb856e0ff11781d01ec5ca8fe\" type=\"text/javascript\" charset=\"utf-8\"></script>\r\n",
      "    <script src=\"/static/components/requirejs/require.js?v=6da8be361b9ee26c5e721e76c6d4afce\" type=\"text/javascript\" charset=\"utf-8\"></script>\r\n",
      "    <script>\r\n",
      "      require.config({\r\n",
      "          \r\n",
      "          urlArgs: \"v=20161213203350\",\r\n",
      "          \r\n",
      "          baseUrl: '/static/',\r\n",
      "          paths: {\r\n",
      "            'auth/js/main': 'auth/js/main.min',\r\n",
      "            custom : '/custom',\r\n",
      "            nbextensions : '/nbextensions',\r\n",
      "            kernelspecs : '/kernelspecs',\r\n",
      "            underscore : 'components/underscore/underscore-min',\r\n",
      "            backbone : 'components/backbone/backbone-min',\r\n",
      "            jquery: 'components/jquery/jquery.min',\r\n",
      "            bootstrap: 'components/bootstrap/js/bootstrap.min',\r\n",
      "            bootstraptour: 'components/bootstrap-tour/build/js/bootstrap-tour.min',\r\n",
      "            'jquery-ui': 'components/jquery-ui/ui/minified/jquery-ui.min',\r\n",
      "            moment: 'components/moment/moment',\r\n",
      "            codemirror: 'components/codemirror',\r\n",
      "            termjs: 'components/term.js/src/term',\r\n",
      "            typeahead: 'components/jquery-typeahead/dist/jquery.typeahead'\r\n",
      "          },\r\n",
      "\t  map: { // for backward compatibility\r\n",
      "\t    \"*\": {\r\n",
      "\t\t\"jqueryui\": \"jquery-ui\",\r\n",
      "\t    }\r\n",
      "\t  },\r\n",
      "          shim: {\r\n",
      "            typeahead: {\r\n",
      "              deps: [\"jquery\"],\r\n",
      "              exports: \"typeahead\"\r\n",
      "            },\r\n",
      "            underscore: {\r\n",
      "              exports: '_'\r\n",
      "            },\r\n",
      "            backbone: {\r\n",
      "              deps: [\"underscore\", \"jquery\"],\r\n",
      "              exports: \"Backbone\"\r\n",
      "            },\r\n",
      "            bootstrap: {\r\n",
      "              deps: [\"jquery\"],\r\n",
      "              exports: \"bootstrap\"\r\n",
      "            },\r\n",
      "            bootstraptour: {\r\n",
      "              deps: [\"bootstrap\"],\r\n",
      "              exports: \"Tour\"\r\n",
      "            },\r\n",
      "            \"jquery-ui\": {\r\n",
      "              deps: [\"jquery\"],\r\n",
      "              exports: \"$\"\r\n",
      "            }\r\n",
      "          },\r\n",
      "          waitSeconds: 30,\r\n",
      "      });\r\n",
      "\r\n",
      "      require.config({\r\n",
      "          map: {\r\n",
      "              '*':{\r\n",
      "                'contents': 'services/contents',\r\n",
      "              }\r\n",
      "          }\r\n",
      "      });\r\n",
      "\r\n",
      "      define(\"bootstrap\", function () {\r\n",
      "          return window.$;\r\n",
      "      });\r\n",
      "\r\n",
      "      define(\"jquery\", function () {\r\n",
      "          return window.$;\r\n",
      "      });\r\n",
      "\r\n",
      "      define(\"jqueryui\", function () {\r\n",
      "          return window.$;\r\n",
      "      });\r\n",
      "\r\n",
      "      define(\"jquery-ui\", function () {\r\n",
      "          return window.$;\r\n",
      "      });\r\n",
      "      // error-catching custom.js shim.\r\n",
      "      define(\"custom\", function (require, exports, module) {\r\n",
      "          try {\r\n",
      "              var custom = require('custom/custom');\r\n",
      "              console.debug('loaded custom.js');\r\n",
      "              return custom;\r\n",
      "          } catch (e) {\r\n",
      "              console.error(\"error loading custom.js\", e);\r\n",
      "              return {};\r\n",
      "          }\r\n",
      "      })\r\n",
      "    </script>\r\n",
      "\r\n",
      "    \r\n",
      "    \r\n",
      "\r\n",
      "</head>\r\n",
      "\r\n",
      "<body class=\"\" >\r\n",
      "\r\n",
      "<noscript>\r\n",
      "    <div id='noscript'>\r\n",
      "      Jupyter Notebook requires JavaScript.<br>\r\n",
      "      Please enable it to proceed.\r\n",
      "  </div>\r\n",
      "</noscript>\r\n",
      "\r\n",
      "<div id=\"header\">\r\n",
      "  <div id=\"header-container\" class=\"container\">\r\n",
      "  <div id=\"ipython_notebook\" class=\"nav navbar-brand pull-left\"><a href=\"/tree\" title='dashboard'><img src='/static/base/images/logo.png?v=7c4597ba713d804995e8f8dad448a397' alt='Jupyter Notebook'/></a></div>\r\n",
      "\r\n",
      "  \r\n",
      "  \r\n",
      "  \r\n",
      "\r\n",
      "\r\n",
      "  \r\n",
      "\r\n",
      "  \r\n",
      "  \r\n",
      "  </div>\r\n",
      "  <div class=\"header-bar\"></div>\r\n",
      "\r\n",
      "  \r\n",
      "  \r\n",
      "</div>\r\n",
      "\r\n",
      "<div id=\"site\">\r\n",
      "\r\n",
      "\r\n",
      "<div class=\"error\">\r\n",
      "    \r\n",
      "    <h1>404 : Not Found</h1>\r\n",
      "    \r\n",
      "    \r\n",
      "<p>You are requesting a page that does not exist!</p>\r\n",
      "\r\n",
      "</header>\r\n",
      "\r\n",
      "\r\n",
      "</div>\r\n",
      "\r\n",
      "\r\n",
      "\r\n",
      "\r\n",
      "\r\n",
      "\r\n",
      "\r\n",
      "</body>\r\n",
      "\r\n",
      "</html>"
     ]
    }
   ],
   "source": [
    "!curl -X GET http://localhost:8889/_all_dbs"
   ]
  },
  {
   "cell_type": "markdown",
   "metadata": {},
   "source": [
    "> ## Create a new database called `zillow`"
   ]
  },
  {
   "cell_type": "code",
   "execution_count": null,
   "metadata": {
    "collapsed": false
   },
   "outputs": [],
   "source": [
    "!curl -X PUT http://localhost:5984/zillow"
   ]
  },
  {
   "cell_type": "markdown",
   "metadata": {},
   "source": [
    "> ## Check out the new database"
   ]
  },
  {
   "cell_type": "code",
   "execution_count": null,
   "metadata": {
    "collapsed": false
   },
   "outputs": [],
   "source": [
    "!curl -X GET http://localhost:5984/zillow"
   ]
  },
  {
   "cell_type": "markdown",
   "metadata": {},
   "source": [
    "It's a new database so it is empty (`\"doc_count\":0`).  Let's now populate it."
   ]
  },
  {
   "cell_type": "markdown",
   "metadata": {},
   "source": [
    "> ## Bulk import"
   ]
  },
  {
   "cell_type": "code",
   "execution_count": null,
   "metadata": {
    "collapsed": false
   },
   "outputs": [],
   "source": [
    "!curl -d \"@../datasets/dataset-03-zillow.json\" -H \"Content-Type: application/json\" -X POST http://localhost:5984/zillow/_bulk_docs"
   ]
  },
  {
   "cell_type": "markdown",
   "metadata": {},
   "source": [
    "Let's check it again..."
   ]
  },
  {
   "cell_type": "code",
   "execution_count": null,
   "metadata": {
    "collapsed": false
   },
   "outputs": [],
   "source": [
    "!curl -X GET http://localhost:5984/zillow"
   ]
  },
  {
   "cell_type": "markdown",
   "metadata": {},
   "source": [
    "We can see that we now have 1,000 documents in it (`\"doc_count\":1000`).  Let's have a look at a couple of documents."
   ]
  },
  {
   "cell_type": "markdown",
   "metadata": {},
   "source": [
    "> ## `_id`"
   ]
  },
  {
   "cell_type": "code",
   "execution_count": null,
   "metadata": {
    "collapsed": false
   },
   "outputs": [],
   "source": [
    "!curl -X GET http://localhost:5984/zillow/15065032"
   ]
  },
  {
   "cell_type": "markdown",
   "metadata": {},
   "source": [
    "`15065032` refers to the Zillow identifier of our dataset but how did `CouchDB` know how to use it?  For the bulk import, we set the identifier of each document with `_id`."
   ]
  },
  {
   "cell_type": "markdown",
   "metadata": {},
   "source": [
    "## List of all documents within a database"
   ]
  },
  {
   "cell_type": "code",
   "execution_count": null,
   "metadata": {
    "collapsed": false
   },
   "outputs": [],
   "source": [
    "!curl -X GET http://localhost:5984/zillow/_all_docs"
   ]
  },
  {
   "cell_type": "markdown",
   "metadata": {},
   "source": [
    "> Now with the document contents"
   ]
  },
  {
   "cell_type": "code",
   "execution_count": null,
   "metadata": {
    "collapsed": false
   },
   "outputs": [],
   "source": [
    "!curl -X GET http://localhost:5984/zillow/_all_docs?include_docs=true"
   ]
  },
  {
   "cell_type": "markdown",
   "metadata": {},
   "source": [
    "## Let's now using `CouchDB`'s `MapReduce` to compute the average sale price of these properties based on their number of bedrooms"
   ]
  },
  {
   "cell_type": "markdown",
   "metadata": {},
   "source": [
    "> Using `Fauxton`, let's create a new view: http://localhost:5984/_utils/#/database/zillow/new_view"
   ]
  },
  {
   "cell_type": "markdown",
   "metadata": {},
   "source": [
    "Copy/paste the following (JavaScript) code for the `Map function`."
   ]
  },
  {
   "cell_type": "markdown",
   "metadata": {},
   "source": [
    "```javascript\n",
    "function(property) {\n",
    "    if (property.beds) {\n",
    "        beds = property.beds;\n",
    "    } else if (property.is_a_studio == true) {\n",
    "        beds = 0;\n",
    "    } else {\n",
    "        return;\n",
    "    }\n",
    "    if (property.sale.price.unit == '$') {\n",
    "        emit(beds, [property.sale.price.value / Math.pow(10, 6), 1]);\n",
    "        return;\n",
    "    }\n",
    "    if (property.sale.price.unit == '$M') {\n",
    "        emit(beds, [property.sale.price.value, 1]);\n",
    "        return;\n",
    "    }\n",
    "}\n",
    "```"
   ]
  },
  {
   "cell_type": "markdown",
   "metadata": {},
   "source": [
    "Copy/paste the following (JavaScript) code for the `Reduce (optional)` function (choose `CUSTOM`)."
   ]
  },
  {
   "cell_type": "markdown",
   "metadata": {},
   "source": [
    "```javascript\n",
    "function(keys, values) {\n",
    "    weighted_price = 0\n",
    "    weight = 0\n",
    "        values.forEach(function (value) {\n",
    "            weighted_price += value[0] * value[1];\n",
    "            weight += value[1];\n",
    "        });\n",
    "     return [weighted_price / weight, weight];\n",
    "}\n",
    "```"
   ]
  },
  {
   "cell_type": "markdown",
   "metadata": {},
   "source": [
    "Click on `Options` (upper right), check `Reduce` and `Run Query`.  Do these numbers match what we got from the `SQL` section?"
   ]
  },
  {
   "cell_type": "markdown",
   "metadata": {},
   "source": [
    "## Delete a database"
   ]
  },
  {
   "cell_type": "code",
   "execution_count": null,
   "metadata": {
    "collapsed": false
   },
   "outputs": [],
   "source": [
    "!curl -X DELETE http://localhost:5984/zillow"
   ]
  }
 ],
 "metadata": {
  "kernelspec": {
   "display_name": "Python [conda root]",
   "language": "python",
   "name": "conda-root-py"
  },
  "language_info": {
   "codemirror_mode": {
    "name": "ipython",
    "version": 2
   },
   "file_extension": ".py",
   "mimetype": "text/x-python",
   "name": "python",
   "nbconvert_exporter": "python",
   "pygments_lexer": "ipython2",
   "version": "2.7.12"
  }
 },
 "nbformat": 4,
 "nbformat_minor": 0
}
